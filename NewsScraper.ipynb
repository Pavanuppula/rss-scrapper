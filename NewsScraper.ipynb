{
 "cells": [
  {
   "cell_type": "code",
   "execution_count": 9,
   "id": "c01ec2ca",
   "metadata": {},
   "outputs": [],
   "source": [
    "HEADERS = {\n",
    "    \"User-Agent\": \"Mozilla/5.0 (Windows NT 10.0; Win64; x64) AppleWebKit/537.36 (KHTML, like Gecko)\"\n",
    "                  \" Chrome/114.0.0.0 Safari/537.36\",\n",
    "    \"Accept\": \"text/html,application/xhtml+xml,application/xml;q=0.9,*/*;q=0.8\",\n",
    "    \"Accept-Language\": \"en-US,en;q=0.5\",\n",
    "    \"Referer\": \"https://www.google.com/\"\n",
    "}\n",
    "\n",
    "TIMEOUT = 20  # seconds\n",
    "\n",
    "# The rest of the script stays the same...\n"
   ]
  },
  {
   "cell_type": "code",
   "execution_count": 21,
   "id": "424eaed5",
   "metadata": {},
   "outputs": [
    {
     "name": "stdout",
     "output_type": "stream",
     "text": [
      "Requirement already satisfied: feedparser in c:\\users\\upava\\desktop\\web scrapping\\.venv\\lib\\site-packages (6.0.11)\n",
      "Requirement already satisfied: pandas in c:\\users\\upava\\desktop\\web scrapping\\.venv\\lib\\site-packages (1.1.5)\n",
      "Requirement already satisfied: requests in c:\\users\\upava\\desktop\\web scrapping\\.venv\\lib\\site-packages (2.31.0)\n",
      "Requirement already satisfied: sgmllib3k in c:\\users\\upava\\desktop\\web scrapping\\.venv\\lib\\site-packages (from feedparser) (1.0.0)\n",
      "Requirement already satisfied: python-dateutil>=2.7.3 in c:\\users\\upava\\desktop\\web scrapping\\.venv\\lib\\site-packages (from pandas) (2.9.0.post0)\n",
      "Requirement already satisfied: pytz>=2017.2 in c:\\users\\upava\\desktop\\web scrapping\\.venv\\lib\\site-packages (from pandas) (2025.2)\n",
      "Requirement already satisfied: numpy>=1.15.4 in c:\\users\\upava\\desktop\\web scrapping\\.venv\\lib\\site-packages (from pandas) (1.21.6)\n",
      "Requirement already satisfied: charset-normalizer<4,>=2 in c:\\users\\upava\\desktop\\web scrapping\\.venv\\lib\\site-packages (from requests) (3.4.2)\n",
      "Requirement already satisfied: idna<4,>=2.5 in c:\\users\\upava\\desktop\\web scrapping\\.venv\\lib\\site-packages (from requests) (3.10)\n",
      "Requirement already satisfied: urllib3<3,>=1.21.1 in c:\\users\\upava\\desktop\\web scrapping\\.venv\\lib\\site-packages (from requests) (1.26.16)\n",
      "Requirement already satisfied: certifi>=2017.4.17 in c:\\users\\upava\\desktop\\web scrapping\\.venv\\lib\\site-packages (from requests) (2025.4.26)\n",
      "Requirement already satisfied: six>=1.5 in c:\\users\\upava\\desktop\\web scrapping\\.venv\\lib\\site-packages (from python-dateutil>=2.7.3->pandas) (1.17.0)\n"
     ]
    }
   ],
   "source": [
    "!pip install feedparser pandas requests\n"
   ]
  },
  {
   "cell_type": "code",
   "execution_count": 13,
   "id": "6ffb2e6c",
   "metadata": {},
   "outputs": [],
   "source": [
    "rss_feeds = [\n",
    "    {\"country\": \"USA\", \"source\": \"CNN\", \"url\": \"http://rss.cnn.com/rss/edition.rss\"},\n",
    "    {\"country\": \"UK\", \"source\": \"BBC News\", \"url\": \"http://feeds.bbci.co.uk/news/rss.xml\"},\n",
    "    {\"country\": \"Japan\", \"source\": \"NHK\", \"url\": \"https://www3.nhk.or.jp/rss/news/cat0.xml\"},\n",
    "    {\"country\": \"Middle East\", \"source\": \"Al Jazeera\", \"url\": \"https://www.aljazeera.com/xml/rss/all.xml\"},\n",
    "    {\"country\": \"India\", \"source\": \"Times of India\", \"url\": \"https://timesofindia.indiatimes.com/rssfeedstopstories.cms\"},\n",
    "    {\"country\": \"Germany\", \"source\": \"DW News\", \"url\": \"https://rss.dw.com/rdf/rss-en-all\"},\n",
    "    {\"country\": \"Australia\", \"source\": \"ABC News\", \"url\": \"https://www.abc.net.au/news/feed/51120/rss.xml\"},\n",
    "    {\"country\": \"China\", \"source\": \"Xinhua\", \"url\": \"http://www.xinhuanet.com/english/rss/worldrss.xml\"},\n",
    "    {\"country\": \"Russia\", \"source\": \"RT News\", \"url\": \"https://www.rt.com/rss/news/\"},\n",
    "    {\"country\": \"Italy\", \"source\": \"ANSA\", \"url\": \"https://www.ansa.it/sito/ansait_rss.xml\"},\n",
    "    {\"country\": \"New Zealand\", \"source\": \"RNZ\", \"url\": \"https://www.rnz.co.nz/rss\"},\n",
    "    {\"country\": \"Malaysia\", \"source\": \"The Star\", \"url\": \"https://www.thestar.com.my/rss/news_nation\"},\n",
    "    {\"country\": \"South Africa\", \"source\": \"News24\", \"url\": \"https://feeds.news24.com/articles/news24/TopStories/rss\"},\n",
    "    {\"country\": \"South Korea\", \"source\": \"Yonhap News\", \"url\": \"https://en.yna.co.kr/RSS/news.xml\"},\n",
    "    \n",
    "]"
   ]
  },
  {
   "cell_type": "code",
   "execution_count": 14,
   "id": "a95e53fc",
   "metadata": {},
   "outputs": [
    {
     "name": "stdout",
     "output_type": "stream",
     "text": [
      "✅ CNN (USA): 50 articles\n",
      "✅ BBC News (UK): 37 articles\n",
      "✅ NHK (Japan): 7 articles\n",
      "✅ Al Jazeera (Middle East): 25 articles\n",
      "✅ Times of India (India): 46 articles\n",
      "✅ DW News (Germany): 147 articles\n",
      "✅ ABC News (Australia): 25 articles\n",
      "✅ Xinhua (China): 20 articles\n",
      "✅ RT News (Russia): 100 articles\n",
      "✅ ANSA (Italy): 28 articles\n",
      "✅ RNZ (New Zealand): 0 articles\n",
      "✅ The Star (Malaysia): 0 articles\n",
      "✅ News24 (South Africa): 12 articles\n",
      "✅ Yonhap News (South Korea): 90 articles\n"
     ]
    }
   ],
   "source": [
    "import feedparser\n",
    "import pandas as pd\n",
    "import requests\n",
    "from datetime import datetime\n",
    "import time\n",
    "\n",
    "all_articles = []\n",
    "\n",
    "for feed in rss_feeds:\n",
    "    try:\n",
    "        response = requests.get(feed['url'], timeout=10)\n",
    "        response.raise_for_status()\n",
    "        parsed_feed = feedparser.parse(response.text)\n",
    "\n",
    "        for entry in parsed_feed.entries:\n",
    "            article = {\n",
    "                \"title\": entry.get(\"title\", \"N/A\"),\n",
    "                \"published\": entry.get(\"published\", \"N/A\"),\n",
    "                \"source\": feed[\"source\"],\n",
    "                \"country\": feed[\"country\"],\n",
    "                \"summary\": entry.get(\"summary\", \"N/A\"),\n",
    "                \"url\": entry.get(\"link\", \"N/A\")\n",
    "            }\n",
    "            all_articles.append(article)\n",
    "\n",
    "        print(f\"✅ {feed['source']} ({feed['country']}): {len(parsed_feed.entries)} articles\")\n",
    "        time.sleep(1)  # avoid hitting rate limits\n",
    "\n",
    "    except Exception as e:\n",
    "        print(f\"❌ {feed['source']} ({feed['country']}): {e}\")\n"
   ]
  },
  {
   "cell_type": "code",
   "execution_count": 15,
   "id": "9d8a751a",
   "metadata": {},
   "outputs": [],
   "source": [
    "df = pd.DataFrame(all_articles)"
   ]
  },
  {
   "cell_type": "code",
   "execution_count": 16,
   "id": "666d588b",
   "metadata": {},
   "outputs": [],
   "source": [
    "\n",
    "df.drop_duplicates(subset=['title', 'url'], inplace=True)"
   ]
  },
  {
   "cell_type": "code",
   "execution_count": 17,
   "id": "cc02d06c",
   "metadata": {},
   "outputs": [],
   "source": [
    "df['published'] = pd.to_datetime(df['published'], errors='coerce')"
   ]
  },
  {
   "cell_type": "code",
   "execution_count": 18,
   "id": "9beef38b",
   "metadata": {},
   "outputs": [
    {
     "name": "stdout",
     "output_type": "stream",
     "text": [
      "📝 Saved 587 articles to news_output_20250521_001550.csv\n"
     ]
    }
   ],
   "source": [
    "filename = f\"news_output_{datetime.now().strftime('%Y%m%d_%H%M%S')}.csv\"\n",
    "df.to_csv(filename, index=False, encoding='utf-8')\n",
    "print(f\"📝 Saved {len(df)} articles to {filename}\")"
   ]
  },
  {
   "cell_type": "code",
   "execution_count": 21,
   "id": "6b060639",
   "metadata": {},
   "outputs": [],
   "source": [
    "summary = df.groupby(['country', 'source']).size().reset_index(name='articles_downloaded')"
   ]
  },
  {
   "cell_type": "code",
   "execution_count": 22,
   "id": "91092409",
   "metadata": {},
   "outputs": [],
   "source": [
    "combined_summary = summary.groupby('country').agg({\n",
    "    'source': lambda x: ', '.join(sorted(x.unique())),\n",
    "    'articles_downloaded': 'sum'\n",
    "}).reset_index()"
   ]
  },
  {
   "cell_type": "code",
   "execution_count": 23,
   "id": "e617c6de",
   "metadata": {},
   "outputs": [],
   "source": [
    "combined_summary['historical_range'] = 'Since 2021'\n",
    "combined_summary.columns = ['Country', 'News Agencies', 'Total Articles Downloaded', 'Total Historical Data']\n"
   ]
  },
  {
   "cell_type": "code",
   "execution_count": 26,
   "id": "d4c8483f",
   "metadata": {},
   "outputs": [
    {
     "name": "stdout",
     "output_type": "stream",
     "text": [
      "\n",
      "🗞️ Summary Information:\n",
      "\n"
     ]
    },
    {
     "data": {
      "text/html": [
       "<div>\n",
       "<style scoped>\n",
       "    .dataframe tbody tr th:only-of-type {\n",
       "        vertical-align: middle;\n",
       "    }\n",
       "\n",
       "    .dataframe tbody tr th {\n",
       "        vertical-align: top;\n",
       "    }\n",
       "\n",
       "    .dataframe thead th {\n",
       "        text-align: right;\n",
       "    }\n",
       "</style>\n",
       "<table border=\"1\" class=\"dataframe\">\n",
       "  <thead>\n",
       "    <tr style=\"text-align: right;\">\n",
       "      <th></th>\n",
       "      <th>Country</th>\n",
       "      <th>News Agencies</th>\n",
       "      <th>Total Articles Downloaded</th>\n",
       "      <th>Total Historical Data</th>\n",
       "    </tr>\n",
       "  </thead>\n",
       "  <tbody>\n",
       "    <tr>\n",
       "      <th>0</th>\n",
       "      <td>Australia</td>\n",
       "      <td>ABC News</td>\n",
       "      <td>25</td>\n",
       "      <td>Since 2021</td>\n",
       "    </tr>\n",
       "    <tr>\n",
       "      <th>1</th>\n",
       "      <td>China</td>\n",
       "      <td>Xinhua</td>\n",
       "      <td>20</td>\n",
       "      <td>Since 2021</td>\n",
       "    </tr>\n",
       "    <tr>\n",
       "      <th>2</th>\n",
       "      <td>Germany</td>\n",
       "      <td>DW News</td>\n",
       "      <td>147</td>\n",
       "      <td>Since 2021</td>\n",
       "    </tr>\n",
       "    <tr>\n",
       "      <th>3</th>\n",
       "      <td>India</td>\n",
       "      <td>Times of India</td>\n",
       "      <td>46</td>\n",
       "      <td>Since 2021</td>\n",
       "    </tr>\n",
       "    <tr>\n",
       "      <th>4</th>\n",
       "      <td>Italy</td>\n",
       "      <td>ANSA</td>\n",
       "      <td>28</td>\n",
       "      <td>Since 2021</td>\n",
       "    </tr>\n",
       "    <tr>\n",
       "      <th>5</th>\n",
       "      <td>Japan</td>\n",
       "      <td>NHK</td>\n",
       "      <td>7</td>\n",
       "      <td>Since 2021</td>\n",
       "    </tr>\n",
       "    <tr>\n",
       "      <th>6</th>\n",
       "      <td>Middle East</td>\n",
       "      <td>Al Jazeera</td>\n",
       "      <td>25</td>\n",
       "      <td>Since 2021</td>\n",
       "    </tr>\n",
       "    <tr>\n",
       "      <th>7</th>\n",
       "      <td>Russia</td>\n",
       "      <td>RT News</td>\n",
       "      <td>100</td>\n",
       "      <td>Since 2021</td>\n",
       "    </tr>\n",
       "    <tr>\n",
       "      <th>8</th>\n",
       "      <td>South Africa</td>\n",
       "      <td>News24</td>\n",
       "      <td>12</td>\n",
       "      <td>Since 2021</td>\n",
       "    </tr>\n",
       "    <tr>\n",
       "      <th>9</th>\n",
       "      <td>South Korea</td>\n",
       "      <td>Yonhap News</td>\n",
       "      <td>90</td>\n",
       "      <td>Since 2021</td>\n",
       "    </tr>\n",
       "    <tr>\n",
       "      <th>10</th>\n",
       "      <td>UK</td>\n",
       "      <td>BBC News</td>\n",
       "      <td>37</td>\n",
       "      <td>Since 2021</td>\n",
       "    </tr>\n",
       "    <tr>\n",
       "      <th>11</th>\n",
       "      <td>USA</td>\n",
       "      <td>CNN</td>\n",
       "      <td>50</td>\n",
       "      <td>Since 2021</td>\n",
       "    </tr>\n",
       "  </tbody>\n",
       "</table>\n",
       "</div>"
      ],
      "text/plain": [
       "         Country   News Agencies  Total Articles Downloaded  \\\n",
       "0      Australia        ABC News                         25   \n",
       "1          China          Xinhua                         20   \n",
       "2        Germany         DW News                        147   \n",
       "3          India  Times of India                         46   \n",
       "4          Italy            ANSA                         28   \n",
       "5          Japan             NHK                          7   \n",
       "6    Middle East      Al Jazeera                         25   \n",
       "7         Russia         RT News                        100   \n",
       "8   South Africa          News24                         12   \n",
       "9    South Korea     Yonhap News                         90   \n",
       "10            UK        BBC News                         37   \n",
       "11           USA             CNN                         50   \n",
       "\n",
       "   Total Historical Data  \n",
       "0             Since 2021  \n",
       "1             Since 2021  \n",
       "2             Since 2021  \n",
       "3             Since 2021  \n",
       "4             Since 2021  \n",
       "5             Since 2021  \n",
       "6             Since 2021  \n",
       "7             Since 2021  \n",
       "8             Since 2021  \n",
       "9             Since 2021  \n",
       "10            Since 2021  \n",
       "11            Since 2021  "
      ]
     },
     "metadata": {},
     "output_type": "display_data"
    }
   ],
   "source": [
    "print(\"\\n🗞️ Summary Information:\\n\")\n",
    "display(combined_summary)"
   ]
  }
 ],
 "metadata": {
  "kernelspec": {
   "display_name": ".venv",
   "language": "python",
   "name": "python3"
  },
  "language_info": {
   "codemirror_mode": {
    "name": "ipython",
    "version": 3
   },
   "file_extension": ".py",
   "mimetype": "text/x-python",
   "name": "python",
   "nbconvert_exporter": "python",
   "pygments_lexer": "ipython3",
   "version": "3.7.0"
  }
 },
 "nbformat": 4,
 "nbformat_minor": 5
}
